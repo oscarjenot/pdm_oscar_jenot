{
 "cells": [
  {
   "cell_type": "markdown",
   "metadata": {},
   "source": [
    "# Continuous Control\n",
    "\n",
    "---\n",
    "\n",
    "You are welcome to use this coding environment to train your agent for the project.  Follow the instructions below to get started!\n",
    "\n",
    "### 1. Start the Environment"
   ]
  },
  {
   "cell_type": "code",
   "execution_count": 1,
   "metadata": {},
   "outputs": [
    {
     "name": "stderr",
     "output_type": "stream",
     "text": [
      "INFO:unityagents:\n",
      "'Academy' started successfully!\n",
      "Unity Academy name: Academy\n",
      "        Number of Brains: 1\n",
      "        Number of External Brains : 1\n",
      "        Lesson number : 0\n",
      "        Reset Parameters :\n",
      "\t\tgoal_size -> 5.0\n",
      "\t\tgoal_speed -> 1.0\n",
      "Unity brain name: ReacherBrain\n",
      "        Number of Visual Observations (per agent): 0\n",
      "        Vector Observation space type: continuous\n",
      "        Vector Observation space size (per agent): 33\n",
      "        Number of stacked Vector Observation: 1\n",
      "        Vector Action space type: continuous\n",
      "        Vector Action space size (per agent): 4\n",
      "        Vector Action descriptions: , , , \n"
     ]
    }
   ],
   "source": [
    "import random\n",
    "import torch\n",
    "import time\n",
    "import numpy as np\n",
    "from collections import deque\n",
    "import matplotlib.pyplot as plt\n",
    "%matplotlib inline\n",
    "\n",
    "from ddpg_agent import Agent, ReplayBuffer\n",
    "\n",
    "from unityagents import UnityEnvironment\n",
    "import numpy as np\n",
    "\n",
    "\n",
    "# Load Reacher env with 20 agents\n",
    "env = UnityEnvironment(file_name='Reacher')"
   ]
  },
  {
   "cell_type": "markdown",
   "metadata": {},
   "source": [
    "Environments contain **_brains_** which are responsible for deciding the actions of their associated agents. Here we check for the first brain available, and set it as the default brain we will be controlling from Python."
   ]
  },
  {
   "cell_type": "code",
   "execution_count": 2,
   "metadata": {},
   "outputs": [],
   "source": [
    "# get the default brain\n",
    "brain_name = env.brain_names[0]\n",
    "brain = env.brains[brain_name]"
   ]
  },
  {
   "cell_type": "markdown",
   "metadata": {},
   "source": [
    "### 2. Examine the State and Action Spaces\n",
    "\n",
    "Run the code cell below to print some information about the environment."
   ]
  },
  {
   "cell_type": "code",
   "execution_count": 3,
   "metadata": {},
   "outputs": [
    {
     "name": "stdout",
     "output_type": "stream",
     "text": [
      "Number of agents: 20\n",
      "Size of each action: 4\n",
      "There are 20 agents. Each observes a state with length: 33\n",
      "The state for the first agent looks like: [ 0.00000000e+00 -4.00000000e+00  0.00000000e+00  1.00000000e+00\n",
      " -0.00000000e+00 -0.00000000e+00 -4.37113883e-08  0.00000000e+00\n",
      "  0.00000000e+00  0.00000000e+00  0.00000000e+00  0.00000000e+00\n",
      "  0.00000000e+00  0.00000000e+00 -1.00000000e+01  0.00000000e+00\n",
      "  1.00000000e+00 -0.00000000e+00 -0.00000000e+00 -4.37113883e-08\n",
      "  0.00000000e+00  0.00000000e+00  0.00000000e+00  0.00000000e+00\n",
      "  0.00000000e+00  0.00000000e+00  5.75471878e+00 -1.00000000e+00\n",
      "  5.55726624e+00  0.00000000e+00  1.00000000e+00  0.00000000e+00\n",
      " -1.68164849e-01]\n"
     ]
    }
   ],
   "source": [
    "# reset the environment\n",
    "env_info = env.reset(train_mode=True)[brain_name]\n",
    "\n",
    "# number of agents\n",
    "num_agents = len(env_info.agents)\n",
    "print('Number of agents:', num_agents)\n",
    "\n",
    "# size of each action\n",
    "action_size = brain.vector_action_space_size\n",
    "print('Size of each action:', action_size)\n",
    "\n",
    "# examine the state space \n",
    "states = env_info.vector_observations\n",
    "state_size = states.shape[1]\n",
    "print('There are {} agents. Each observes a state with length: {}'.format(states.shape[0], state_size))\n",
    "print('The state for the first agent looks like:', states[0])"
   ]
  },
  {
   "cell_type": "markdown",
   "metadata": {},
   "source": [
    "### 3. Instantiate DDPG Agent"
   ]
  },
  {
   "cell_type": "code",
   "execution_count": 4,
   "metadata": {},
   "outputs": [],
   "source": [
    "random_seed = 7\n",
    "train_mode = True\n",
    "\n",
    "agent = Agent(state_size=state_size, action_size=action_size, random_seed=random_seed)"
   ]
  },
  {
   "cell_type": "markdown",
   "metadata": {},
   "source": [
    "### 4. Train the Agent with DDPG"
   ]
  },
  {
   "cell_type": "code",
   "execution_count": 6,
   "metadata": {},
   "outputs": [
    {
     "name": "stderr",
     "output_type": "stream",
     "text": [
      "/home/workspace/ddpg_agent.py:105: UserWarning: torch.nn.utils.clip_grad_norm is now deprecated in favor of torch.nn.utils.clip_grad_norm_.\n",
      "  torch.nn.utils.clip_grad_norm(self.critic_local.parameters(), 1)\n"
     ]
    },
    {
     "name": "stdout",
     "output_type": "stream",
     "text": [
      "Episode 1\tTotal Average Score: 0.46\tMean: 0.46\tMin: 0.00\tMax: 1.28\tDuration: 21.17\n",
      "Episode 2\tTotal Average Score: 0.62\tMean: 0.78\tMin: 0.08\tMax: 1.82\tDuration: 22.41\n",
      "Episode 3\tTotal Average Score: 0.63\tMean: 0.65\tMin: 0.09\tMax: 1.77\tDuration: 23.10\n",
      "Episode 4\tTotal Average Score: 0.63\tMean: 0.62\tMin: 0.05\tMax: 1.29\tDuration: 22.99\n",
      "Episode 5\tTotal Average Score: 0.61\tMean: 0.55\tMin: 0.06\tMax: 1.38\tDuration: 23.89\n",
      "Episode 6\tTotal Average Score: 0.61\tMean: 0.61\tMin: 0.00\tMax: 1.48\tDuration: 24.57\n",
      "Episode 7\tTotal Average Score: 0.60\tMean: 0.56\tMin: 0.00\tMax: 1.43\tDuration: 24.56\n",
      "Episode 8\tTotal Average Score: 0.63\tMean: 0.86\tMin: 0.05\tMax: 1.68\tDuration: 24.69\n",
      "Episode 9\tTotal Average Score: 0.68\tMean: 1.04\tMin: 0.02\tMax: 2.59\tDuration: 24.93\n",
      "Episode 10\tTotal Average Score: 0.71\tMean: 1.04\tMin: 0.00\tMax: 2.08\tDuration: 25.67\n",
      "Episode 10\tTotal Average Score: 0.71\n",
      "Episode 11\tTotal Average Score: 0.77\tMean: 1.27\tMin: 0.19\tMax: 2.67\tDuration: 26.31\n",
      "Episode 12\tTotal Average Score: 0.81\tMean: 1.35\tMin: 0.53\tMax: 3.64\tDuration: 26.34\n",
      "Episode 13\tTotal Average Score: 0.89\tMean: 1.81\tMin: 0.18\tMax: 4.26\tDuration: 27.10\n",
      "Episode 14\tTotal Average Score: 0.99\tMean: 2.32\tMin: 0.80\tMax: 5.64\tDuration: 28.33\n",
      "Episode 15\tTotal Average Score: 1.08\tMean: 2.31\tMin: 0.90\tMax: 4.13\tDuration: 29.39\n",
      "Episode 16\tTotal Average Score: 1.17\tMean: 2.49\tMin: 0.35\tMax: 4.03\tDuration: 29.49\n",
      "Episode 17\tTotal Average Score: 1.28\tMean: 2.97\tMin: 1.04\tMax: 5.28\tDuration: 29.79\n",
      "Episode 18\tTotal Average Score: 1.39\tMean: 3.42\tMin: 0.91\tMax: 5.50\tDuration: 30.81\n",
      "Episode 19\tTotal Average Score: 1.68\tMean: 6.74\tMin: 1.59\tMax: 11.29\tDuration: 32.29\n",
      "Episode 20\tTotal Average Score: 1.95\tMean: 7.26\tMin: 2.08\tMax: 11.61\tDuration: 33.17\n",
      "Episode 20\tTotal Average Score: 1.95\n",
      "Episode 21\tTotal Average Score: 2.35\tMean: 10.27\tMin: 2.25\tMax: 14.91\tDuration: 34.49\n",
      "Episode 22\tTotal Average Score: 2.88\tMean: 13.91\tMin: 5.97\tMax: 23.41\tDuration: 34.42\n",
      "Episode 23\tTotal Average Score: 3.53\tMean: 17.92\tMin: 9.72\tMax: 25.92\tDuration: 35.31\n",
      "Episode 24\tTotal Average Score: 4.19\tMean: 19.30\tMin: 11.27\tMax: 26.33\tDuration: 37.08\n",
      "Episode 25\tTotal Average Score: 4.91\tMean: 22.15\tMin: 12.71\tMax: 31.28\tDuration: 38.19\n",
      "Episode 26\tTotal Average Score: 5.77\tMean: 27.49\tMin: 18.46\tMax: 36.51\tDuration: 38.91\n",
      "Episode 27\tTotal Average Score: 6.61\tMean: 28.38\tMin: 20.33\tMax: 39.37\tDuration: 40.27\n",
      "Episode 28\tTotal Average Score: 7.49\tMean: 31.08\tMin: 22.69\tMax: 39.42\tDuration: 41.05\n",
      "Episode 29\tTotal Average Score: 8.31\tMean: 31.54\tMin: 25.93\tMax: 37.59\tDuration: 41.81\n",
      "Episode 30\tTotal Average Score: 9.01\tMean: 29.26\tMin: 21.76\tMax: 38.28\tDuration: 42.86\n",
      "Episode 30\tTotal Average Score: 9.01\n",
      "Episode 31\tTotal Average Score: 9.73\tMean: 31.35\tMin: 16.05\tMax: 39.56\tDuration: 44.69\n",
      "Episode 32\tTotal Average Score: 10.47\tMean: 33.39\tMin: 22.05\tMax: 39.09\tDuration: 45.61\n",
      "Episode 33\tTotal Average Score: 11.21\tMean: 34.79\tMin: 24.80\tMax: 38.78\tDuration: 46.46\n",
      "Episode 34\tTotal Average Score: 11.92\tMean: 35.32\tMin: 31.30\tMax: 38.82\tDuration: 47.51\n",
      "Episode 35\tTotal Average Score: 12.61\tMean: 36.12\tMin: 31.99\tMax: 39.62\tDuration: 48.18\n",
      "Episode 36\tTotal Average Score: 13.26\tMean: 36.05\tMin: 33.99\tMax: 38.95\tDuration: 49.44\n",
      "Episode 37\tTotal Average Score: 13.91\tMean: 37.25\tMin: 34.18\tMax: 39.39\tDuration: 50.49\n",
      "Episode 38\tTotal Average Score: 14.54\tMean: 37.69\tMin: 33.00\tMax: 39.61\tDuration: 50.53\n",
      "Episode 39\tTotal Average Score: 15.13\tMean: 37.78\tMin: 34.76\tMax: 39.35\tDuration: 51.97\n",
      "Episode 40\tTotal Average Score: 15.67\tMean: 36.68\tMin: 32.46\tMax: 38.46\tDuration: 53.93\n",
      "Episode 40\tTotal Average Score: 15.67\n",
      "Episode 41\tTotal Average Score: 16.20\tMean: 37.50\tMin: 34.44\tMax: 38.98\tDuration: 54.42\n",
      "Episode 42\tTotal Average Score: 16.72\tMean: 38.09\tMin: 36.27\tMax: 39.60\tDuration: 55.84\n",
      "Episode 43\tTotal Average Score: 17.23\tMean: 38.49\tMin: 35.37\tMax: 39.36\tDuration: 56.87\n",
      "Episode 44\tTotal Average Score: 17.71\tMean: 38.24\tMin: 36.37\tMax: 39.65\tDuration: 57.71\n",
      "Episode 45\tTotal Average Score: 18.17\tMean: 38.38\tMin: 35.07\tMax: 39.60\tDuration: 59.29\n",
      "Episode 46\tTotal Average Score: 18.62\tMean: 38.86\tMin: 37.08\tMax: 39.61\tDuration: 59.48\n",
      "Episode 47\tTotal Average Score: 19.05\tMean: 38.99\tMin: 38.01\tMax: 39.58\tDuration: 60.19\n",
      "Episode 48\tTotal Average Score: 19.47\tMean: 39.07\tMin: 37.65\tMax: 39.62\tDuration: 60.96\n",
      "Episode 49\tTotal Average Score: 19.85\tMean: 38.09\tMin: 35.78\tMax: 39.54\tDuration: 61.94\n",
      "Episode 50\tTotal Average Score: 20.22\tMean: 38.37\tMin: 36.64\tMax: 39.67\tDuration: 63.38\n",
      "Episode 50\tTotal Average Score: 20.22\n",
      "Episode 51\tTotal Average Score: 20.59\tMean: 39.17\tMin: 38.00\tMax: 39.65\tDuration: 63.97\n",
      "Episode 52\tTotal Average Score: 20.94\tMean: 38.64\tMin: 36.91\tMax: 39.55\tDuration: 64.15\n",
      "Episode 53\tTotal Average Score: 21.27\tMean: 38.51\tMin: 35.81\tMax: 39.56\tDuration: 64.55\n",
      "Episode 54\tTotal Average Score: 21.59\tMean: 38.90\tMin: 37.16\tMax: 39.57\tDuration: 64.34\n",
      "Episode 55\tTotal Average Score: 21.90\tMean: 38.25\tMin: 37.02\tMax: 39.44\tDuration: 65.00\n",
      "Episode 56\tTotal Average Score: 22.20\tMean: 38.91\tMin: 37.31\tMax: 39.57\tDuration: 63.93\n",
      "Episode 57\tTotal Average Score: 22.48\tMean: 38.28\tMin: 37.37\tMax: 39.18\tDuration: 64.66\n",
      "Episode 58\tTotal Average Score: 22.75\tMean: 38.09\tMin: 35.87\tMax: 39.21\tDuration: 64.58\n",
      "Episode 59\tTotal Average Score: 23.03\tMean: 38.99\tMin: 38.06\tMax: 39.50\tDuration: 64.00\n",
      "Episode 60\tTotal Average Score: 23.29\tMean: 38.64\tMin: 37.69\tMax: 39.63\tDuration: 65.37\n",
      "Episode 60\tTotal Average Score: 23.29\n",
      "Episode 61\tTotal Average Score: 23.54\tMean: 38.44\tMin: 37.30\tMax: 39.53\tDuration: 64.32\n",
      "Episode 62\tTotal Average Score: 23.77\tMean: 38.13\tMin: 35.97\tMax: 39.11\tDuration: 64.41\n",
      "Episode 63\tTotal Average Score: 24.00\tMean: 38.10\tMin: 35.97\tMax: 39.46\tDuration: 64.47\n",
      "Episode 64\tTotal Average Score: 24.23\tMean: 38.58\tMin: 37.59\tMax: 39.62\tDuration: 63.99\n",
      "Episode 65\tTotal Average Score: 24.45\tMean: 39.03\tMin: 37.52\tMax: 39.59\tDuration: 64.68\n",
      "Episode 66\tTotal Average Score: 24.67\tMean: 38.77\tMin: 37.48\tMax: 39.55\tDuration: 64.22\n",
      "Episode 67\tTotal Average Score: 24.87\tMean: 38.01\tMin: 35.45\tMax: 39.25\tDuration: 64.26\n",
      "Episode 68\tTotal Average Score: 25.08\tMean: 39.37\tMin: 38.16\tMax: 39.62\tDuration: 65.01\n",
      "Episode 69\tTotal Average Score: 25.27\tMean: 38.18\tMin: 37.14\tMax: 39.45\tDuration: 63.98\n",
      "Episode 70\tTotal Average Score: 25.47\tMean: 39.19\tMin: 38.59\tMax: 39.56\tDuration: 64.42\n",
      "Episode 70\tTotal Average Score: 25.47\n",
      "Episode 71\tTotal Average Score: 25.66\tMean: 39.13\tMin: 38.38\tMax: 39.62\tDuration: 64.68\n",
      "Episode 72\tTotal Average Score: 25.84\tMean: 38.04\tMin: 36.38\tMax: 39.57\tDuration: 64.62\n",
      "Episode 73\tTotal Average Score: 26.01\tMean: 38.67\tMin: 37.87\tMax: 39.49\tDuration: 65.95\n",
      "Episode 74\tTotal Average Score: 26.18\tMean: 38.27\tMin: 36.95\tMax: 39.03\tDuration: 64.27\n",
      "Episode 75\tTotal Average Score: 26.35\tMean: 39.06\tMin: 38.21\tMax: 39.54\tDuration: 63.80\n",
      "Episode 76\tTotal Average Score: 26.52\tMean: 39.27\tMin: 38.35\tMax: 39.60\tDuration: 64.66\n",
      "Episode 77\tTotal Average Score: 26.68\tMean: 39.13\tMin: 37.31\tMax: 39.60\tDuration: 63.89\n",
      "Episode 78\tTotal Average Score: 26.84\tMean: 39.20\tMin: 37.79\tMax: 39.59\tDuration: 64.44\n",
      "Episode 79\tTotal Average Score: 26.98\tMean: 37.60\tMin: 35.97\tMax: 39.15\tDuration: 64.70\n",
      "Episode 80\tTotal Average Score: 27.13\tMean: 38.66\tMin: 37.20\tMax: 39.43\tDuration: 64.13\n",
      "Episode 80\tTotal Average Score: 27.13\n",
      "Episode 81\tTotal Average Score: 27.27\tMean: 38.62\tMin: 36.82\tMax: 39.55\tDuration: 64.45\n",
      "Episode 82\tTotal Average Score: 27.41\tMean: 38.98\tMin: 37.52\tMax: 39.60\tDuration: 64.80\n",
      "Episode 83\tTotal Average Score: 27.54\tMean: 38.40\tMin: 35.87\tMax: 39.17\tDuration: 64.37\n",
      "Episode 84\tTotal Average Score: 27.68\tMean: 39.05\tMin: 37.17\tMax: 39.56\tDuration: 65.53\n",
      "Episode 85\tTotal Average Score: 27.80\tMean: 37.91\tMin: 34.95\tMax: 39.51\tDuration: 64.63\n",
      "Episode 86\tTotal Average Score: 27.92\tMean: 38.46\tMin: 37.00\tMax: 39.41\tDuration: 64.73\n",
      "Episode 87\tTotal Average Score: 28.04\tMean: 38.03\tMin: 36.36\tMax: 39.58\tDuration: 64.57\n",
      "Episode 88\tTotal Average Score: 28.15\tMean: 37.95\tMin: 36.58\tMax: 39.32\tDuration: 64.17\n",
      "Episode 89\tTotal Average Score: 28.27\tMean: 38.84\tMin: 37.18\tMax: 39.45\tDuration: 64.63\n",
      "Episode 90\tTotal Average Score: 28.39\tMean: 38.38\tMin: 36.72\tMax: 39.54\tDuration: 64.26\n",
      "Episode 90\tTotal Average Score: 28.39\n",
      "Episode 91\tTotal Average Score: 28.49\tMean: 38.21\tMin: 36.82\tMax: 39.43\tDuration: 64.34\n"
     ]
    },
    {
     "name": "stdout",
     "output_type": "stream",
     "text": [
      "Episode 92\tTotal Average Score: 28.60\tMean: 38.22\tMin: 36.25\tMax: 39.37\tDuration: 65.05\n",
      "Episode 93\tTotal Average Score: 28.70\tMean: 37.96\tMin: 36.15\tMax: 38.92\tDuration: 64.36\n",
      "Episode 94\tTotal Average Score: 28.80\tMean: 38.01\tMin: 34.28\tMax: 39.17\tDuration: 64.26\n",
      "Episode 95\tTotal Average Score: 28.90\tMean: 38.85\tMin: 37.41\tMax: 39.46\tDuration: 64.02\n",
      "Episode 96\tTotal Average Score: 28.99\tMean: 37.55\tMin: 33.83\tMax: 39.33\tDuration: 64.13\n",
      "Episode 97\tTotal Average Score: 29.08\tMean: 37.57\tMin: 34.29\tMax: 38.93\tDuration: 64.68\n",
      "Episode 98\tTotal Average Score: 29.18\tMean: 38.33\tMin: 36.13\tMax: 39.60\tDuration: 64.62\n",
      "Episode 99\tTotal Average Score: 29.27\tMean: 37.88\tMin: 34.68\tMax: 39.27\tDuration: 64.87\n",
      "Episode 100\tTotal Average Score: 29.35\tMean: 37.46\tMin: 34.43\tMax: 38.64\tDuration: 64.81\n",
      "Episode 100\tTotal Average Score: 29.35\n",
      "Episode 101\tTotal Average Score: 29.73\tMean: 38.75\tMin: 37.45\tMax: 39.65\tDuration: 63.99\n",
      "Episode 102\tTotal Average Score: 30.10\tMean: 38.23\tMin: 35.19\tMax: 39.50\tDuration: 65.24\n",
      "Problem Solved after 102 epsisodes!! Total Average score: 30.10\n"
     ]
    }
   ],
   "source": [
    "def ddpg(n_episodes=2000, max_t=1000, print_every=10, learn_every=20, num_learn=10, goal_score=30):\n",
    "    total_scores_deque = deque(maxlen=100)\n",
    "    total_scores = []\n",
    "    \n",
    "    for i_episode in range(1, n_episodes+1):\n",
    "        # Reset Env and Agent\n",
    "        env_info = env.reset(train_mode=train_mode)[brain_name]       # reset the environment    \n",
    "        states = env_info.vector_observations                   # get the current state (for each agent)\n",
    "        scores = np.zeros(num_agents)                            # initialize the score (for each agent)\n",
    "        agent.reset()\n",
    "        \n",
    "        start_time = time.time()\n",
    "        \n",
    "        for t in range(max_t):\n",
    "            actions = agent.act(states)\n",
    "            \n",
    "            env_info = env.step(actions)[brain_name]            # send all actions to the environment\n",
    "            next_states = env_info.vector_observations          # get next state (for each agent)\n",
    "            rewards = env_info.rewards                          # get reward (for each agent)\n",
    "            \n",
    "            dones = env_info.local_done                         # see if episode finished\n",
    "            \n",
    "            for state, action, reward, next_state, done in zip(states, actions, rewards, next_states, dones):\n",
    "                agent.step(state, action, reward, next_state, done) # send actions to the agent\n",
    "            \n",
    "            scores += env_info.rewards                           # update the score (for each agent)\n",
    "            states = next_states                                # roll over states to next time step\n",
    "            \n",
    "            if t%learn_every == 0:\n",
    "                for _ in range(num_learn):\n",
    "                    agent.start_learn()\n",
    "            \n",
    "            if np.any(dones):                                   # exit loop if episode finished\n",
    "                break\n",
    "    \n",
    "        mean_score = np.mean(scores)\n",
    "        min_score = np.min(scores)\n",
    "        max_score = np.max(scores)\n",
    "        total_scores_deque.append(mean_score)\n",
    "        total_scores.append(mean_score)\n",
    "        total_average_score = np.mean(total_scores_deque)\n",
    "        duration = time.time() - start_time\n",
    "        \n",
    "        print('\\rEpisode {}\\tTotal Average Score: {:.2f}\\tMean: {:.2f}\\tMin: {:.2f}\\tMax: {:.2f}\\tDuration: {:.2f}'\n",
    "              .format(i_episode, total_average_score, mean_score, min_score, max_score, duration))\n",
    "\n",
    "        if i_episode % print_every == 0:\n",
    "            torch.save(agent.actor_local.state_dict(), 'checkpoint_actor.pth')\n",
    "            torch.save(agent.critic_local.state_dict(), 'checkpoint_critic.pth')\n",
    "            print('\\rEpisode {}\\tTotal Average Score: {:.2f}'.format(i_episode, total_average_score))  \n",
    "            \n",
    "        if total_average_score >= goal_score and i_episode >= 100:\n",
    "            print('Problem Solved after {} epsisodes!! Total Average score: {:.2f}'.format(i_episode, total_average_score))\n",
    "            torch.save(agent.actor_local.state_dict(), 'checkpoint_actor.pth')\n",
    "            torch.save(agent.critic_local.state_dict(), 'checkpoint_critic.pth')\n",
    "            break\n",
    "    \n",
    "    return total_scores\n",
    "\n",
    "scores = ddpg()\n",
    "\n"
   ]
  },
  {
   "cell_type": "markdown",
   "metadata": {},
   "source": [
    "### 5. Plot the result"
   ]
  },
  {
   "cell_type": "code",
   "execution_count": 7,
   "metadata": {},
   "outputs": [
    {
     "data": {
      "image/png": "[encoded data removed]",
      "text/plain": [
       "<matplotlib.figure.Figure at 0x7f486b774588>"
      ]
     },
     "metadata": {
      "needs_background": "light"
     },
     "output_type": "display_data"
    }
   ],
   "source": [
    "fig = plt.figure()\n",
    "ax = fig.add_subplot(1,1,1)\n",
    "\n",
    "plt.plot(np.arange(1, len(scores)+1), scores)\n",
    "plt.ylabel('Score')\n",
    "plt.xlabel('Episode #')\n",
    "plt.show()"
   ]
  },
  {
   "cell_type": "markdown",
   "metadata": {},
   "source": [
    "### 6. Watch the agent running with saved weights"
   ]
  },
  {
   "cell_type": "code",
   "execution_count": 5,
   "metadata": {},
   "outputs": [
    {
     "name": "stdout",
     "output_type": "stream",
     "text": [
      "Total score: 38.21249914588407\n"
     ]
    }
   ],
   "source": [
    "# Load the saved weights into Pytorch model\n",
    "agent.actor_local.load_state_dict(torch.load('checkpoint_actor.pth', map_location='cpu'))\n",
    "agent.critic_local.load_state_dict(torch.load('checkpoint_critic.pth', map_location='cpu'))\n",
    "\n",
    "env_info = env.reset(train_mode=False)[brain_name]     # reset the environment    \n",
    "states = env_info.vector_observations                  # get the current state (for each agent)\n",
    "scores = np.zeros(num_agents)                          # initialize the score (for each agent)\n",
    "\n",
    "while True:\n",
    "    actions = agent.act(states)                        # select actions from loaded model agent\n",
    "    env_info = env.step(actions)[brain_name]           # send all actions to tne environment\n",
    "    next_states = env_info.vector_observations         # get next state (for each agent)\n",
    "    rewards = env_info.rewards                         # get reward (for each agent)\n",
    "    dones = env_info.local_done                        # see if episode finished\n",
    "    scores += env_info.rewards                         # update the score (for each agent)\n",
    "    states = next_states                               # roll over states to next time step\n",
    "    if np.any(dones):                                  # exit loop if episode finished\n",
    "        break\n",
    "print('Total score: {}'.format(np.mean(scores)))"
   ]
  },
  {
   "cell_type": "markdown",
   "metadata": {},
   "source": [
    "When finished, you can close the environment."
   ]
  },
  {
   "cell_type": "code",
   "execution_count": 6,
   "metadata": {},
   "outputs": [],
   "source": [
    "env.close()"
   ]
  },
  {
   "cell_type": "code",
   "execution_count": null,
   "metadata": {},
   "outputs": [],
   "source": []
  }
 ],
 "metadata": {
  "kernelspec": {
   "display_name": "Python 3",
   "language": "python",
   "name": "python3"
  },
  "language_info": {
   "codemirror_mode": {
    "name": "ipython",
    "version": 3
   },
   "file_extension": ".py",
   "mimetype": "text/x-python",
   "name": "python",
   "nbconvert_exporter": "python",
   "pygments_lexer": "ipython3",
   "version": "3.8.3"
  }
 },
 "nbformat": 4,
 "nbformat_minor": 2
}
