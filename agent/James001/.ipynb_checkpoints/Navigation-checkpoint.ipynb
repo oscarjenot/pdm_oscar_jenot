{
 "cells": [
  {
   "cell_type": "markdown",
   "metadata": {},
   "source": [
    "# Navigation\n",
    "\n",
    "---\n",
    "\n",
    "### 1. Start the Environment\n"
   ]
  },
  {
   "cell_type": "markdown",
   "metadata": {},
   "source": [
    "The environment is already saved in the Workspace and can be accessed at the file path provided below.  Please run the next code cell without making any changes."
   ]
  },
  {
   "cell_type": "code",
   "execution_count": 1,
   "metadata": {},
   "outputs": [],
   "source": [
    "import gym\n",
    "import numpy as np\n",
    "\n",
    "# please do not modify the line below\n",
    "env = gym.make('crane-v0')\n"
   ]
  },
  {
   "cell_type": "markdown",
   "metadata": {},
   "source": [
    "### Create DQN Agent"
   ]
  },
  {
   "cell_type": "code",
   "execution_count": 2,
   "metadata": {},
   "outputs": [],
   "source": [
    "import torch\n",
    "import time\n",
    "from collections import deque\n",
    "from agent import Agent\n",
    "import matplotlib.pyplot as plt\n",
    "%matplotlib inline\n",
    "\n",
    "model_weight_name = 'checkpoint_precise_2.pth'\n",
    "\n",
    "state_size=4\n",
    "action_size=3\n",
    "seed=0\n",
    "\n",
    "agent = Agent(state_size=4, action_size=3, seed=0)"
   ]
  },
  {
   "cell_type": "markdown",
   "metadata": {},
   "source": [
    "### 3. DQN Agent Training"
   ]
  },
  {
   "cell_type": "code",
   "execution_count": null,
   "metadata": {},
   "outputs": [],
   "source": [
    "def dqn(n_episodes=10000, max_t=2000, eps_start=1.0, eps_end=0.01, eps_decay=0.997, target_scores=105000.0):\n",
    "    \"\"\"Deep Q-Learning.\n",
    "    \n",
    "    Params\n",
    "    ======\n",
    "        n_episodes (int): maximum number of training episodes\n",
    "        max_t (int): maximum number of timesteps per episode\n",
    "        eps_start (float): starting value of epsilon, for epsilon-greedy action selection\n",
    "        eps_end (float): minimum value of epsilon\n",
    "        eps_decay (float): multiplicative factor (per episode) for decreasing epsilon\n",
    "        target_scores (float): average scores aming to achieve, the agent will stop training once it reaches this scores\n",
    "    \"\"\"\n",
    "    start = time.time()                # Start time\n",
    "    scores = []                        # list containing scores from each episode\n",
    "    scores_window = deque(maxlen=100)  # last 100 scores\n",
    "    eps = eps_start                    # initialize epsilon\n",
    "    \n",
    "    for i_episode in range(1, n_episodes+1):\n",
    "        # Reset env and score at the beginning of episode\n",
    "        env_info = env.reset()                             # reset the environment\n",
    "        state = env.state                                  # get the current state\n",
    "        score = 0                                          # initialize the score\n",
    "        \n",
    "        for t in range(max_t):\n",
    "            action = agent.act(state, eps)\n",
    "            env_info = env.step(action)                    # send the action to the environment\n",
    "            next_state = env_info[0]                       # get the next state\n",
    "            reward = env_info[1]                           # get the reward\n",
    "            done = env_info[2]                             # see if episode has finished\n",
    "            \n",
    "            agent.step(state, action, reward, next_state, done)\n",
    "            state = next_state\n",
    "            score += reward\n",
    "            if done:\n",
    "                print(\"Episode finished after {} timesteps\".format(t+1))\n",
    "                print(\"final state is :\", state)\n",
    "                print(\"Reward is : \", score)\n",
    "                break \n",
    "\n",
    "        scores_window.append(score)       # save most recent score\n",
    "        scores.append(score)              # save most recent score\n",
    "        eps = max(eps_end, eps_decay*eps) # decrease epsilon\n",
    "        \n",
    "        print('\\rEpisode {}\\tAverage Score: {:.2f}'.format(i_episode, np.mean(scores_window)), end=\"\")\n",
    "        \n",
    "        if i_episode % 100 == 0:\n",
    "            print('\\rEpisode {}\\tAverage Score: {:.2f}'.format(i_episode, np.mean(scores_window)))\n",
    "        \n",
    "        if np.mean(scores_window)>=target_scores:\n",
    "            print('\\nEnvironment solved in {:d} episodes!\\tAverage Score: {:.2f}'.format(i_episode, np.mean(scores_window)))\n",
    "            torch.save(agent.qnetwork_local.state_dict(), model_weight_name)\n",
    "            break\n",
    "\n",
    "    time_elapsed = time.time() - start\n",
    "    print(\"Time Elapse: {:.2f}\".format(time_elapsed))\n",
    "    \n",
    "    return scores\n",
    "\n",
    "#scores = dqn(n_episodes=2000, target_scores=1000.0)\n",
    "scores = dqn(n_episodes=10000, max_t=2000, eps_start=1.0, eps_end=0.01, eps_decay=0.997, target_scores=105000.0)\n",
    "\n",
    "\n",
    "# plot the scores\n",
    "fig = plt.figure()\n",
    "ax = fig.add_subplot(111)\n",
    "plt.plot(np.arange(len(scores)), scores)\n",
    "plt.ylabel('Score')\n",
    "plt.xlabel('Episode #')\n",
    "plt.show()"
   ]
  },
  {
   "cell_type": "markdown",
   "metadata": {},
   "source": [
    "### Watch the agent running ( Using saved weights)"
   ]
  },
  {
   "cell_type": "code",
   "execution_count": 7,
   "metadata": {
    "scrolled": true
   },
   "outputs": [
    {
     "name": "stdout",
     "output_type": "stream",
     "text": [
      "final state is : [ 1.01166688 -0.01271586  3.16719652  0.02664652]\n",
      "Total steps :  403\n",
      "Score: 106467.5914105575\n"
     ]
    }
   ],
   "source": [
    "# load the weights from file\n",
    "#agent.qnetwork_local.state_dict()\n",
    "agent.qnetwork_local.load_state_dict(torch.load('checkpoint_precise.pth'))\n",
    "#agent.qnetwork_local.load_state_dict(torch.load('checkpoint.pth'))\n",
    "\n",
    "\n",
    "\n",
    "env_info = env.reset()                             # reset the environment\n",
    "state = env.state                                  # get the current state\n",
    "score = 0                                          # initialize the score\n",
    "\n",
    "t = 0\n",
    "while True:\n",
    "    env.render()\n",
    "    time.sleep(0.008)\n",
    "    action = agent.act(state)                      # select an action\n",
    "    env_info = env.step(action)                    # send the action to the environment\n",
    "    next_state = env_info[0]                       # get the next state\n",
    "    reward = env_info[1]                           # get the reward\n",
    "    done = env_info[2]                             # see if episode has finished\n",
    "    score += reward                                # update the score\n",
    "    state = next_state  # roll over the state to next time step\n",
    "    t += 1\n",
    "    if done:                                       # exit loop if episode finished\n",
    "        print(\"final state is :\", state)\n",
    "        print(\"Total steps : \", t)\n",
    "        break\n",
    "    \n",
    "print(\"Score: {}\".format(score))\n",
    "env.close()"
   ]
  },
  {
   "cell_type": "markdown",
   "metadata": {},
   "source": [
    "Calculate mean time  and percentage rate of model"
   ]
  },
  {
   "cell_type": "code",
   "execution_count": 10,
   "metadata": {},
   "outputs": [
    {
     "name": "stdout",
     "output_type": "stream",
     "text": [
      "final state is : [0.99486255 0.00434272 3.16497831 0.02340768]\n",
      "Total steps :  398\n",
      "Total time is :  7.96\n",
      "Score: 105674.22841709381\n"
     ]
    }
   ],
   "source": [
    "#Choose model\n",
    "agent.qnetwork_local.load_state_dict(torch.load('checkpoint_precise.pth'))\n",
    "\n",
    "env_info = env.reset()                             # reset the environment\n",
    "state = env.state                                  # get the current state\n",
    "score = 0                                          # initialize the score\n",
    "\n",
    "t = 0\n",
    "while True:\n",
    "    env.render()\n",
    "    #time.sleep(0.008)\n",
    "    action = agent.act(state)                      # select an action\n",
    "    env_info = env.step(action)                    # send the action to the environment\n",
    "    next_state = env_info[0]                       # get the next state\n",
    "    reward = env_info[1]                           # get the reward\n",
    "    done = env_info[2]                             # see if episode has finished\n",
    "    score += reward                                # update the score\n",
    "    state = next_state  # roll over the state to next time step\n",
    "    t += 1\n",
    "    if done:                                       # exit loop if episode finished\n",
    "        print(\"final state is :\", state)\n",
    "        print(\"Total steps : \", t)\n",
    "        print(\"Total time is : \", env.tau * t)\n",
    "        break\n",
    "    \n",
    "print(\"Score: {}\".format(score))\n",
    "env.close()"
   ]
  },
  {
   "cell_type": "code",
   "execution_count": null,
   "metadata": {},
   "outputs": [],
   "source": [
    "torch.version.cuda"
   ]
  },
  {
   "cell_type": "code",
   "execution_count": null,
   "metadata": {},
   "outputs": [],
   "source": [
    "torch.cuda.is_available()"
   ]
  }
 ],
 "metadata": {
  "kernelspec": {
   "display_name": "Python 3",
   "language": "python",
   "name": "python3"
  },
  "language_info": {
   "codemirror_mode": {
    "name": "ipython",
    "version": 3
   },
   "file_extension": ".py",
   "mimetype": "text/x-python",
   "name": "python",
   "nbconvert_exporter": "python",
   "pygments_lexer": "ipython3",
   "version": "3.8.3"
  }
 },
 "nbformat": 4,
 "nbformat_minor": 2
}
