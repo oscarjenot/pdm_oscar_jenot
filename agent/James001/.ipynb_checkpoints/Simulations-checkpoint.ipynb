{
 "cells": [
  {
   "cell_type": "markdown",
   "metadata": {},
   "source": [
    "# Crane V0 Simulations\n"
   ]
  },
  {
   "cell_type": "markdown",
   "metadata": {},
   "source": [
    "Adapted from https://github.com/kinwo/deeprl-navigation (MIT License Copyright (c) 2018 Henry Chan)"
   ]
  },
  {
   "cell_type": "markdown",
   "metadata": {},
   "source": [
    "Start Environement and create DQN Agent"
   ]
  },
  {
   "cell_type": "code",
   "execution_count": 1,
   "metadata": {},
   "outputs": [],
   "source": [
    "import gym\n",
    "import numpy as np\n",
    "\n",
    "env = gym.make('crane-v0') #Load the environement"
   ]
  },
  {
   "cell_type": "markdown",
   "metadata": {},
   "source": [
    "A 2 linear hidden layer of 64 nodes each is created, with relu activation function. "
   ]
  },
  {
   "cell_type": "code",
   "execution_count": null,
   "metadata": {},
   "outputs": [],
   "source": [
    "import torch\n",
    "import torch.nn as nn\n",
    "import torch.nn.functional as F\n",
    "\n",
    "class QNetwork(nn.Module):\n",
    "    \"\"\"Actor (Policy) Model.\"\"\"\n",
    "\n",
    "    def __init__(self, state_size, action_size, seed, fc1_units=64, fc2_units=64):\n",
    "        \"\"\"Initialize parameters and build model.\n",
    "        Params\n",
    "        ======\n",
    "            state_size (int): Dimension of each state\n",
    "            action_size (int): Dimension of each action\n",
    "            seed (int): Random seed\n",
    "            fc1_units (int): Number of nodes in first hidden layer\n",
    "            fc2_units (int): Number of nodes in second hidden layer\n",
    "        \"\"\"\n",
    "        super(QNetwork, self).__init__()\n",
    "        self.seed = torch.manual_seed(seed)\n",
    "        self.fc1 = nn.Linear(state_size, fc1_units)\n",
    "        self.fc2 = nn.Linear(fc1_units, fc2_units)\n",
    "        self.fc3 = nn.Linear(fc2_units, action_size)\n",
    "\n",
    "    def forward(self, state):\n",
    "        \"\"\"Build a network that maps state -> action values.\"\"\"\n",
    "        x = F.relu(self.fc1(state))\n",
    "        x = F.relu(self.fc2(x))\n",
    "        return self.fc3(x)"
   ]
  },
  {
   "cell_type": "markdown",
   "metadata": {},
   "source": [
    "## DQN Agent Training"
   ]
  },
  {
   "cell_type": "markdown",
   "metadata": {},
   "source": [
    "### Create DQN Agent"
   ]
  },
  {
   "cell_type": "code",
   "execution_count": null,
   "metadata": {},
   "outputs": [],
   "source": [
    "import torch\n",
    "import time\n",
    "from collections import deque\n",
    "\n",
    "#from agent_script import Agent   # UNCOMMENT IF YOU ARE NOT IN A JUPYTER NOTEBOOK\n",
    "\n",
    "import matplotlib.pyplot as plt\n",
    "%matplotlib inline\n",
    "\n",
    "state_size=4\n",
    "action_size=3\n",
    "seed=0\n",
    "\n",
    "agent = Agent(state_size=4, action_size=3, seed=0)"
   ]
  },
  {
   "cell_type": "markdown",
   "metadata": {},
   "source": [
    "In order to know when the environement is solved, we compute the moving score (the total rewards per episode) average over the last 100 episodes. If the moving average is over a chosen thershold (target_scores), the model is then saved to 'model_weight_name'.\n",
    "\n",
    "For the Crane_v0 environement, the target score is 100 000, since it is the reward obtained by the agent when finding the flag. "
   ]
  },
  {
   "cell_type": "code",
   "execution_count": null,
   "metadata": {
    "scrolled": true
   },
   "outputs": [],
   "source": [
    "model_weight_name = 'checkpoint_precise_2.pth'\n",
    "\n",
    "\n",
    "def dqn(n_episodes=10000, max_t=2000, eps_start=1.0, eps_end=0.01, eps_decay=0.997, target_scores=100000.0):\n",
    "    \"\"\"Deep Q-Learning.\n",
    "    \n",
    "    Params\n",
    "    ======\n",
    "        n_episodes (int): maximum number of training episodes\n",
    "        max_t (int): maximum number of timesteps per episode\n",
    "        eps_start (float): starting value of epsilon, for epsilon-greedy action selection\n",
    "        eps_end (float): minimum value of epsilon\n",
    "        eps_decay (float): multiplicative factor (per episode) for decreasing epsilon\n",
    "        target_scores (float): average scores aming to achieve, the agent will stop training once it reaches this scores\n",
    "    \"\"\"\n",
    "    start = time.time()                # Start time\n",
    "    scores = []                        # list containing scores from each episode\n",
    "    scores_window = deque(maxlen=100)  # last 100 scores\n",
    "    eps = eps_start                    # initialize epsilon\n",
    "    \n",
    "    for i_episode in range(1, n_episodes+1):\n",
    "        # Reset env and score at the beginning of episode\n",
    "        env_info = env.reset()                             # reset the environment\n",
    "        state = env.state                                  # get the current state\n",
    "        score = 0                                          # initialize the score\n",
    "        \n",
    "        for t in range(max_t):\n",
    "            action = agent.act(state, eps)\n",
    "            env_info = env.step(action)                    # send the action to the environment\n",
    "            next_state = env_info[0]                       # get the next state\n",
    "            reward = env_info[1]                           # get the reward\n",
    "            done = env_info[2]                             # see if episode has finished\n",
    "            \n",
    "            agent.step(state, action, reward, next_state, done)\n",
    "            state = next_state\n",
    "            score += reward\n",
    "            if done:\n",
    "                print(\"    Episode finished after {} timesteps\".format(t+1))\n",
    "                #print(\"final state is :\", state)\n",
    "                #print(\"Reward is : \", score)\n",
    "                break \n",
    "\n",
    "        scores_window.append(score)       # save most recent score\n",
    "        scores.append(score)              # save most recent score\n",
    "        eps = max(eps_end, eps_decay*eps) # decrease epsilon\n",
    "        \n",
    "        print('\\rEpisode {}\\tAverage Score: {:.2f}'.format(i_episode, np.mean(scores_window)), end=\"\")\n",
    "        \n",
    "        if i_episode % 100 == 0:\n",
    "            print('\\rEpisode {}\\tAverage Score: {:.2f}'.format(i_episode, np.mean(scores_window)))\n",
    "        \n",
    "        if np.mean(scores_window)>=target_scores:\n",
    "            print('\\nEnvironment solved in {:d} episodes!\\tAverage Score: {:.2f}'.format(i_episode, np.mean(scores_window)))\n",
    "            torch.save(agent.qnetwork_local.state_dict(), model_weight_name)\n",
    "            break\n",
    "\n",
    "    time_elapsed = time.time() - start\n",
    "    print(\"Time Elapse: {:.2f}\".format(time_elapsed))\n",
    "    \n",
    "    return scores\n",
    "\n",
    "scores = dqn(n_episodes=2000, max_t=1500, eps_start=1.0, eps_end=0.01, eps_decay=0.997, target_scores=100000.0)\n",
    "\n",
    "\n"
   ]
  },
  {
   "cell_type": "markdown",
   "metadata": {},
   "source": [
    "### Score plot for each episodes during training"
   ]
  },
  {
   "cell_type": "code",
   "execution_count": null,
   "metadata": {},
   "outputs": [],
   "source": [
    "# plot the scores\n",
    "fig = plt.figure()\n",
    "ax = fig.add_subplot(111)\n",
    "plt.plot(np.arange(len(scores)), scores)\n",
    "plt.ylabel('Score')\n",
    "plt.xlabel('Episode #')\n",
    "plt.savefig('plots/model_training.png', dpi = 200) #UNCOMMENT TO SAVE PLOT\n",
    "plt.show()"
   ]
  },
  {
   "cell_type": "markdown",
   "metadata": {},
   "source": [
    "## Analysis and inspections"
   ]
  },
  {
   "cell_type": "markdown",
   "metadata": {},
   "source": [
    "### Watch the agent running ( Using saved weights)"
   ]
  },
  {
   "cell_type": "code",
   "execution_count": null,
   "metadata": {
    "scrolled": true
   },
   "outputs": [],
   "source": [
    "# load the weights from file\n",
    "agent.qnetwork_local.load_state_dict(torch.load('checkpoint_precise_2.pth'))\n",
    "#agent.qnetwork_local.load_state_dict(torch.load('checkpoint_precise.pth'))\n",
    "\n",
    "\n",
    "\n",
    "env_info = env.reset()                             # reset the environment\n",
    "state = env.state                                  # get the current state\n",
    "score = 0                                          # initialize the score\n",
    "\n",
    "t = 0\n",
    "while True:\n",
    "    env.render()\n",
    "    time.sleep(0.008)\n",
    "    action = agent.act(state)                      # select an action\n",
    "    env_info = env.step(action)                    # send the action to the environment\n",
    "    next_state = env_info[0]                       # get the next state\n",
    "    reward = env_info[1]                           # get the reward\n",
    "    done = env_info[2]                             # see if episode has finished\n",
    "    score += reward                                # update the score\n",
    "    state = next_state  # roll over the state to next time step\n",
    "    t += 1\n",
    "    if done:                                       # exit loop if episode finished\n",
    "        print(\"final state is :\", state)\n",
    "        print(\"Total steps : \", t)\n",
    "        break\n",
    "    \n",
    "print(\"Score: {}\".format(score))\n",
    "env.close()"
   ]
  },
  {
   "cell_type": "markdown",
   "metadata": {},
   "source": [
    "### Calculate time steps and time before solving environement"
   ]
  },
  {
   "cell_type": "code",
   "execution_count": null,
   "metadata": {},
   "outputs": [],
   "source": [
    "#Choose model\n",
    "agent.qnetwork_local.load_state_dict(torch.load('checkpoint_precise.pth'))\n",
    "\n",
    "env_info = env.reset()                             # reset the environment\n",
    "state = env.state                                  # get the current state\n",
    "score = 0                                          # initialize the score\n",
    "\n",
    "t = 0\n",
    "while True:\n",
    "    env.render()\n",
    "    #time.sleep(0.02)                               # Actual time step\n",
    "    action = agent.act(state)                      # select an action\n",
    "    env_info = env.step(action)                    # send the action to the environment\n",
    "    next_state = env_info[0]                       # get the next state\n",
    "    reward = env_info[1]                           # get the reward\n",
    "    done = env_info[2]                             # see if episode has finished\n",
    "    score += reward                                # update the score\n",
    "    state = next_state  # roll over the state to next time step\n",
    "    t += 1\n",
    "    if done:                                       # exit loop if episode finished\n",
    "        print(\"\\r final state is :\", state)\n",
    "        print(\"\\r Total steps : \", t)\n",
    "        print(\"\\r Total time is : \", env.tau * t)\n",
    "        break\n",
    "    \n",
    "print(\"Score: {}\".format(score))\n",
    "env.close()"
   ]
  },
  {
   "cell_type": "markdown",
   "metadata": {},
   "source": [
    "### Plot state graphs against time"
   ]
  },
  {
   "cell_type": "code",
   "execution_count": null,
   "metadata": {},
   "outputs": [],
   "source": [
    "#Choose model\n",
    "agent.qnetwork_local.load_state_dict(torch.load('checkpoint_precise.pth'))\n",
    "agent.qnetwork_local.state_dict() #UNCOMMENT TO USE LAST TRAINED WEIGHTS\n",
    "\n",
    "\n",
    "env_info = env.reset()                             # reset the environment\n",
    "state = env.state                                  # get the current state\n",
    "score = 0                                          # initialize the score\n",
    "\n",
    "arr_x = []\n",
    "arr_x_dot = []\n",
    "arr_theta = []\n",
    "arr_theta_dot = []\n",
    "arr_t = []\n",
    "\n",
    "t = 0.0\n",
    "while True:\n",
    "    env.render()\n",
    "    #time.sleep(0.008)\n",
    "    action = agent.act(state)                      # select an action\n",
    "    env_info = env.step(action)                    # send the action to the environment\n",
    "    next_state = env_info[0]                       # get the next state\n",
    "    reward = env_info[1]                           # get the reward\n",
    "    done = env_info[2]                             # see if episode has finished\n",
    "    score += reward                                # update the score\n",
    "    state = next_state  # roll over the state to next time step\n",
    "    t += 1.0\n",
    "    arr_t.append(t)\n",
    "    arr_x.append(state[0])\n",
    "    arr_x_dot.append(state[1])\n",
    "    arr_theta.append(state[2])\n",
    "    arr_theta_dot.append(state[3])\n",
    "    \n",
    "    if done:                                       # exit loop if episode finished\n",
    "        print(\"Total steps : \", t)\n",
    "        print(\"Total time is : \", env.tau * t)\n",
    "        break\n",
    "arr_t = 0.02*np.array(arr_t)\n",
    "print(\"Score: {}\".format(score))\n",
    "env.close()\n",
    "\n",
    "\n"
   ]
  },
  {
   "cell_type": "code",
   "execution_count": null,
   "metadata": {},
   "outputs": [],
   "source": [
    "fig = plt.figure()\n",
    "ax = fig.add_subplot(111)\n",
    "plt.plot(arr_t, arr_x, label='Cart Position')\n",
    "plt.ylabel('X Position [m]')\n",
    "plt.xlabel('Time [s]')\n",
    "plt.title('Position / Time')\n",
    "plt.hlines(1.0, 0, arr_t[-1], colors='r', linestyles='solid', label='Goal Position')\n",
    "plt.legend()\n",
    "plt.grid()\n",
    "#plt.savefig('plots/model_1_x.png', dpi = 200)\n",
    "plt.show()\n",
    "\n",
    "fig = plt.figure()\n",
    "ax = fig.add_subplot(111)\n",
    "plt.plot(arr_t, arr_x_dot, label = 'Cart Velocity')\n",
    "plt.ylabel('X Velocity [m / s]')\n",
    "plt.xlabel('Time [s]')\n",
    "plt.title('Velocity / Time')\n",
    "plt.hlines(0.0, 0, arr_t[-1], colors='r', linestyles='solid', label='Goal Velocity')\n",
    "plt.legend()\n",
    "plt.grid()\n",
    "#plt.savefig('plots/model_1_x_dot.png', dpi = 200)\n",
    "plt.show()\n",
    "\n",
    "fig = plt.figure()\n",
    "ax = fig.add_subplot(111)\n",
    "plt.plot(arr_t, arr_theta, label = 'Pole angle')\n",
    "plt.ylabel('Theta [rad]')\n",
    "plt.xlabel('Time [s]')\n",
    "plt.title('Theta / Time')\n",
    "plt.hlines(np.pi, 0, arr_t[-1], colors='r', linestyles='solid', label='Goal Angle')\n",
    "plt.legend()\n",
    "plt.grid()\n",
    "#plt.savefig('plots/model_1_theta.png', dpi = 200)\n",
    "plt.show()\n",
    "\n",
    "fig = plt.figure()\n",
    "ax = fig.add_subplot(111)\n",
    "plt.plot(arr_t, arr_theta_dot, label = 'Pole Anglular Velocity')\n",
    "plt.ylabel('Angular Velocity [rad / s]')\n",
    "plt.xlabel('Time [s]')\n",
    "plt.title('Angular Velocity / Time')\n",
    "plt.hlines(0.0, 0, arr_t[-1], colors='r', linestyles='solid', label='Goal Velocity')\n",
    "plt.legend()\n",
    "plt.grid()\n",
    "#plt.savefig('plots/model_1_theta_dot.png', dpi = 200)\n",
    "plt.show()\n",
    "\n",
    "initial_state = [arr_x[0], arr_x_dot[0], arr_theta[0], arr_theta_dot[0]]\n",
    "print('initial state is : ', initial_state)"
   ]
  }
 ],
 "metadata": {
  "kernelspec": {
   "display_name": "Python 3",
   "language": "python",
   "name": "python3"
  },
  "language_info": {
   "codemirror_mode": {
    "name": "ipython",
    "version": 3
   },
   "file_extension": ".py",
   "mimetype": "text/x-python",
   "name": "python",
   "nbconvert_exporter": "python",
   "pygments_lexer": "ipython3",
   "version": "3.8.3"
  }
 },
 "nbformat": 4,
 "nbformat_minor": 2
}
