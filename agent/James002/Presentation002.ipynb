{
 "cells": [
  {
   "cell_type": "markdown",
   "id": "difficult-bidder",
   "metadata": {},
   "source": [
    "# Crane V1 training evolution visualisation"
   ]
  },
  {
   "cell_type": "markdown",
   "id": "substantial-today",
   "metadata": {},
   "source": [
    "#### Imports"
   ]
  },
  {
   "cell_type": "code",
   "execution_count": 1,
   "id": "elect-harvey",
   "metadata": {},
   "outputs": [],
   "source": [
    "import gym\n",
    "import numpy as np\n",
    "\n",
    "env = gym.make('crane-v1') #Load the environement"
   ]
  },
  {
   "cell_type": "markdown",
   "id": "guided-dutch",
   "metadata": {},
   "source": [
    "#### DQN Agent"
   ]
  },
  {
   "cell_type": "code",
   "execution_count": 2,
   "id": "respective-machinery",
   "metadata": {},
   "outputs": [],
   "source": [
    "import numpy as np\n",
    "import random\n",
    "from collections import namedtuple, deque\n",
    "\n",
    "#from model import QNetwork # UNCOMMENT IF YOU ARE NOT IN A JUPYTER NOTEBOOK\n",
    "\n",
    "import torch\n",
    "import torch.nn.functional as F\n",
    "import torch.optim as optim\n",
    "\n",
    "BUFFER_SIZE = 5*int(1e5)   # replay buffer size\n",
    "BATCH_SIZE = 64            # minibatch size\n",
    "GAMMA = 0.995 #was 0.99    # discount factor\n",
    "TAU = 1e-3                 # for soft update of target parameters\n",
    "LR =  5e-4                 # learning rate \n",
    "UPDATE_EVERY = 4           # how often to update the network\n",
    "\n",
    "device = torch.device(\"cuda:0\" if torch.cuda.is_available() else \"cpu\")\n",
    "\n",
    "class Agent():\n",
    "    \"\"\"Interacts with and learns from the environment.\"\"\"\n",
    "\n",
    "    def __init__(self, state_size, action_size, seed):\n",
    "        \"\"\"Initialize an Agent object.\n",
    "        \n",
    "        Params\n",
    "        ======\n",
    "            state_size (int): dimension of each state\n",
    "            action_size (int): dimension of each action\n",
    "            seed (int): random seed\n",
    "        \"\"\"\n",
    "\n",
    "        \n",
    "        self.state_size = state_size\n",
    "        self.action_size = action_size\n",
    "        self.seed = random.seed(seed)\n",
    "\n",
    "        # Q-Network\n",
    "        self.qnetwork_local = QNetwork(state_size, action_size, seed).to(device)\n",
    "        self.qnetwork_target = QNetwork(state_size, action_size, seed).to(device)\n",
    "        self.optimizer = optim.Adam(self.qnetwork_local.parameters(), lr=LR)       \n",
    "\n",
    "        # Replay memory\n",
    "        self.memory = ReplayBuffer(action_size, BUFFER_SIZE, BATCH_SIZE, seed)\n",
    "        # Initialize time step (for updating every UPDATE_EVERY steps)\n",
    "        self.t_step = 0\n",
    "    \n",
    "    def step(self, state, action, reward, next_state, done):\n",
    "        # Save experience in replay memory\n",
    "        self.memory.add(state, action, reward, next_state, done)\n",
    "        \n",
    "        # Learn every UPDATE_EVERY time steps.\n",
    "        self.t_step = (self.t_step + 1) % UPDATE_EVERY\n",
    "        if self.t_step == 0:\n",
    "            # If enough samples are available in memory, get random subset and learn\n",
    "            if len(self.memory) > BATCH_SIZE:\n",
    "                experiences = self.memory.sample()\n",
    "                self.learn(experiences, GAMMA)\n",
    "\n",
    "    def act(self, state, eps=0.):\n",
    "        \"\"\"Returns actions for given state as per current policy.\n",
    "        \n",
    "        Params\n",
    "        ======\n",
    "            state (array_like): current state\n",
    "            eps (float): epsilon, for epsilon-greedy action selection\n",
    "        \"\"\"\n",
    "        state = torch.from_numpy(state).float().unsqueeze(0).to(device)\n",
    "        self.qnetwork_local.eval()\n",
    "        with torch.no_grad():\n",
    "            action_values = self.qnetwork_local(state)\n",
    "        self.qnetwork_local.train()\n",
    "\n",
    "        # Epsilon-greedy action selection\n",
    "        if random.random() > eps:\n",
    "            return np.argmax(action_values.cpu().data.numpy())\n",
    "        else:\n",
    "            return random.choice(np.arange(self.action_size))\n",
    "\n",
    "    def learn(self, experiences, gamma):\n",
    "        \"\"\"Update value parameters using given batch of experience tuples.\n",
    "\n",
    "        Params\n",
    "        ======\n",
    "            experiences (Tuple[torch.Variable]): tuple of (s, a, r, s', done) tuples \n",
    "            gamma (float): discount factor\n",
    "        \"\"\"\n",
    "        states, actions, rewards, next_states, dones = experiences\n",
    "\n",
    "        # Get max predicted Q values (for next states) from target model\n",
    "        Q_targets_next = self.qnetwork_target(next_states).detach().max(1)[0].unsqueeze(1)\n",
    "        # Compute Q targets for current states \n",
    "        Q_targets = rewards + (gamma * Q_targets_next * (1 - dones))\n",
    "\n",
    "        # Get expected Q values from local model\n",
    "        Q_expected = self.qnetwork_local(states).gather(1, actions)\n",
    "\n",
    "        # Compute loss\n",
    "        loss = F.mse_loss(Q_expected, Q_targets)\n",
    "        \n",
    "        # Minimize the loss\n",
    "        self.optimizer.zero_grad()\n",
    "        loss.backward()\n",
    "        self.optimizer.step()\n",
    "\n",
    "        # ------------------- update target network ------------------- #\n",
    "        self.soft_update(self.qnetwork_local, self.qnetwork_target, TAU)                     \n",
    "\n",
    "    def soft_update(self, local_model, target_model, tau):\n",
    "        \"\"\"Soft update model parameters.\n",
    "        θ_target = τ*θ_local + (1 - τ)*θ_target\n",
    "\n",
    "        Params\n",
    "        ======\n",
    "            local_model (PyTorch model): weights will be copied from\n",
    "            target_model (PyTorch model): weights will be copied to\n",
    "            tau (float): interpolation parameter \n",
    "        \"\"\"\n",
    "        for target_param, local_param in zip(target_model.parameters(), local_model.parameters()):\n",
    "            target_param.data.copy_(tau*local_param.data + (1.0-tau)*target_param.data)\n",
    "\n",
    "\n",
    "class ReplayBuffer:\n",
    "    \"\"\"Fixed-size buffer to store experience tuples.\"\"\"\n",
    "\n",
    "    def __init__(self, action_size, buffer_size, batch_size, seed):\n",
    "        \"\"\"Initialize a ReplayBuffer object.\n",
    "\n",
    "        Params\n",
    "        ======\n",
    "            action_size (int): dimension of each action\n",
    "            buffer_size (int): maximum size of buffer\n",
    "            batch_size (int): size of each training batch\n",
    "            seed (int): random seed\n",
    "        \"\"\"\n",
    "        \n",
    "        self.action_size = action_size\n",
    "        self.memory = deque(maxlen=buffer_size)  \n",
    "        self.batch_size = batch_size\n",
    "        self.experience = namedtuple(\"Experience\", field_names=[\"state\", \"action\", \"reward\", \"next_state\", \"done\"])\n",
    "        self.seed = random.seed(seed)\n",
    "    \n",
    "    def add(self, state, action, reward, next_state, done):\n",
    "        \"\"\"Add a new experience to memory.\"\"\"\n",
    "        e = self.experience(state, action, reward, next_state, done)\n",
    "        self.memory.append(e)\n",
    "    \n",
    "    def sample(self):\n",
    "        \"\"\"Randomly sample a batch of experiences from memory.\"\"\"\n",
    "        experiences = random.sample(self.memory, k=self.batch_size)\n",
    "\n",
    "        states = torch.from_numpy(np.vstack([e.state for e in experiences if e is not None])).float().to(device)\n",
    "        actions = torch.from_numpy(np.vstack([e.action for e in experiences if e is not None])).long().to(device)\n",
    "        rewards = torch.from_numpy(np.vstack([e.reward for e in experiences if e is not None])).float().to(device)\n",
    "        next_states = torch.from_numpy(np.vstack([e.next_state for e in experiences if e is not None])).float().to(device)\n",
    "        dones = torch.from_numpy(np.vstack([e.done for e in experiences if e is not None]).astype(np.uint8)).float().to(device)\n",
    "  \n",
    "        return (states, actions, rewards, next_states, dones)\n",
    "\n",
    "    def __len__(self):\n",
    "        \"\"\"Return the current size of internal memory.\"\"\"\n",
    "        return len(self.memory)"
   ]
  },
  {
   "cell_type": "markdown",
   "id": "fresh-tiffany",
   "metadata": {},
   "source": [
    "#### Neural Network"
   ]
  },
  {
   "cell_type": "code",
   "execution_count": 3,
   "id": "atlantic-armor",
   "metadata": {},
   "outputs": [],
   "source": [
    "import torch\n",
    "import torch.nn as nn\n",
    "import torch.nn.functional as F\n",
    "\n",
    "class QNetwork(nn.Module):\n",
    "    \"\"\"Actor (Policy) Model.\"\"\"\n",
    "\n",
    "    def __init__(self, state_size, action_size, seed, fc1_units=64, fc2_units=64): \n",
    "        \"\"\"Initialize parameters and build model.\n",
    "        Params\n",
    "        ======\n",
    "            state_size (int): Dimension of each state\n",
    "            action_size (int): Dimension of each action\n",
    "            seed (int): Random seed\n",
    "            fc1_units (int): Number of nodes in first hidden layer\n",
    "            fc2_units (int): Number of nodes in second hidden layer\n",
    "        \"\"\"\n",
    "        super(QNetwork, self).__init__()\n",
    "        self.seed = torch.manual_seed(seed)\n",
    "        self.fc1 = nn.Linear(state_size, fc1_units)\n",
    "        self.fc2 = nn.Linear(fc1_units, fc2_units)\n",
    "        self.fc3 = nn.Linear(fc2_units, action_size)\n",
    "        \n",
    "\n",
    "\n",
    "    def forward(self, state):\n",
    "        \"\"\"Build a network that maps state -> action values.\"\"\"\n",
    "        x = F.relu(self.fc1(state))\n",
    "        x = F.relu(self.fc2(x))\n",
    "        return self.fc3(x)"
   ]
  },
  {
   "cell_type": "markdown",
   "id": "heated-monthly",
   "metadata": {},
   "source": [
    "#### Initialize agent"
   ]
  },
  {
   "cell_type": "code",
   "execution_count": 4,
   "id": "stock-static",
   "metadata": {},
   "outputs": [],
   "source": [
    "import torch\n",
    "import time\n",
    "from collections import deque\n",
    "#from agent import Agent   # UNCOMMENT IF YOU ARE NOT IN A JUPYTER NOTEBOOK\n",
    "import matplotlib.pyplot as plt\n",
    "%matplotlib inline\n",
    "\n",
    "state_size=8        #State size of  environement \n",
    "action_size=9       #Action size of enviroenemnt\n",
    "seed=0\n",
    "agent = Agent(state_size=8, action_size=9, seed=0) #setting the agent's parameters "
   ]
  },
  {
   "cell_type": "markdown",
   "id": "clinical-selection",
   "metadata": {},
   "source": [
    "### Training Visualization"
   ]
  },
  {
   "cell_type": "markdown",
   "id": "handy-louisiana",
   "metadata": {},
   "source": [
    "#### No training, random actions"
   ]
  },
  {
   "cell_type": "code",
   "execution_count": 5,
   "id": "noticed-activation",
   "metadata": {},
   "outputs": [],
   "source": [
    "#Choose model\n",
    "#agent.qnetwork_local.state_dict() \n",
    "\n",
    "observation = env.reset()\n",
    "reward_sum = 0\n",
    "for t in range(200):\n",
    "    env.render()\n",
    "    time.sleep(0.01)\n",
    "    action = env.action_space.sample()\n",
    "    observation, reward, done, info = env.step(action)\n",
    "\n",
    "    reward_sum = reward_sum + reward\n",
    "        \n",
    "    if done:\n",
    "        break\n",
    "env.close()"
   ]
  },
  {
   "cell_type": "markdown",
   "id": "noted-desert",
   "metadata": {},
   "source": [
    "#### 100th episode of training"
   ]
  },
  {
   "cell_type": "markdown",
   "id": "prompt-verification",
   "metadata": {},
   "source": [
    "Random actions but aims for x target"
   ]
  },
  {
   "cell_type": "code",
   "execution_count": 6,
   "id": "detected-mozambique",
   "metadata": {},
   "outputs": [
    {
     "name": "stdout",
     "output_type": "stream",
     "text": [
      "Score: -4562.711673736004\n",
      "final state is :  [ 1.58214525 -0.23392176  0.30147411  0.61487214 12.40948963  0.51192074\n",
      "  1.          0.        ]\n",
      "final x position is :  1.5821452525114708\n",
      "final lenght is :  12.409489630799705\n",
      "final angle is :  0.3014741071583539\n"
     ]
    }
   ],
   "source": [
    "#Choose model\n",
    "#agent.qnetwork_local.state_dict() \n",
    "\n",
    "agent.qnetwork_local.load_state_dict(torch.load('Episode_100.pth'))\n",
    "\n",
    "env_info = env.reset()                             # reset the environment\n",
    "state = env.state                                  # get the current state\n",
    "score = 0                                          # initialize the score\n",
    "t = 0\n",
    "max_t = 1000                                       # Number of timesteps\n",
    "for t in range(max_t) :\n",
    "    env.render()\n",
    "    #time.sleep(0.008)\n",
    "    action = agent.act(state)                      # select an action\n",
    "    env_info = env.step(action)                    # send the action to the environment\n",
    "    next_state = env_info[0]                       # get the next state\n",
    "    reward = env_info[1]                           # get the reward\n",
    "    done = env_info[2]                             # see if episode has finished\n",
    "    score += reward                                # update the score\n",
    "    state = next_state                             # roll over the state to next time step\n",
    "    t += 1.0    \n",
    "    if done:                                       # exit loop if episode finished\n",
    "        print(\"Total steps : \", t)\n",
    "        print(\"Total time is : \", env.tau * t)\n",
    "        break\n",
    "        \n",
    "print(\"Score: {}\".format(score))\n",
    "print(\"final state is : \", state)\n",
    "print(\"final x position is : \", state[0])\n",
    "print(\"final lenght is : \", state[4])\n",
    "print(\"final angle is : \", state[2])\n",
    "env.close()\n"
   ]
  },
  {
   "cell_type": "markdown",
   "id": "closed-midnight",
   "metadata": {},
   "source": [
    "#### 200th episode of training"
   ]
  },
  {
   "cell_type": "markdown",
   "id": "explicit-chemistry",
   "metadata": {},
   "source": [
    "Starts to understand how to reduce sway by raisong rope lenght"
   ]
  },
  {
   "cell_type": "code",
   "execution_count": 7,
   "id": "amber-humidity",
   "metadata": {},
   "outputs": [
    {
     "name": "stdout",
     "output_type": "stream",
     "text": [
      "Score: 9507.339465487948\n",
      "final state is :  [0.91204795 0.07985755 0.16233935 0.1720494  9.40434934 0.16143115\n",
      " 1.         0.        ]\n",
      "final x position is :  0.9120479481717717\n",
      "final lenght is :  9.404349336894029\n",
      "final angle is :  0.16233935368246677\n"
     ]
    }
   ],
   "source": [
    "#Choose model\n",
    "#agent.qnetwork_local.state_dict() \n",
    "\n",
    "agent.qnetwork_local.load_state_dict(torch.load('Episode_200.pth'))\n",
    "\n",
    "env_info = env.reset()                             # reset the environment\n",
    "state = env.state                                  # get the current state\n",
    "score = 0                                          # initialize the score\n",
    "t = 0\n",
    "max_t = 1000                                       # Number of timesteps\n",
    "for t in range(max_t) :\n",
    "    env.render()\n",
    "    #time.sleep(0.008)\n",
    "    action = agent.act(state)                      # select an action\n",
    "    env_info = env.step(action)                    # send the action to the environment\n",
    "    next_state = env_info[0]                       # get the next state\n",
    "    reward = env_info[1]                           # get the reward\n",
    "    done = env_info[2]                             # see if episode has finished\n",
    "    score += reward                                # update the score\n",
    "    state = next_state                             # roll over the state to next time step\n",
    "    t += 1.0    \n",
    "    if done:                                       # exit loop if episode finished\n",
    "        print(\"Total steps : \", t)\n",
    "        print(\"Total time is : \", env.tau * t)\n",
    "        break\n",
    "        \n",
    "print(\"Score: {}\".format(score))\n",
    "print(\"final state is : \", state)\n",
    "print(\"final x position is : \", state[0])\n",
    "print(\"final lenght is : \", state[4])\n",
    "print(\"final angle is : \", state[2])\n",
    "env.close()\n"
   ]
  },
  {
   "cell_type": "markdown",
   "id": "apparent-cambridge",
   "metadata": {},
   "source": [
    "#### 300th episode of training"
   ]
  },
  {
   "cell_type": "markdown",
   "id": "innovative-major",
   "metadata": {},
   "source": [
    "Understand that going slow might be good for better controlling"
   ]
  },
  {
   "cell_type": "code",
   "execution_count": 8,
   "id": "promising-bookmark",
   "metadata": {},
   "outputs": [
    {
     "name": "stdout",
     "output_type": "stream",
     "text": [
      "Score: 7392.3348890094885\n",
      "final state is :  [ 0.18909118  0.12135814  0.08886969 -0.77876979  2.29451699 -2.38232993\n",
      "  1.          0.        ]\n",
      "final x position is :  0.18909118290167773\n",
      "final lenght is :  2.29451698915525\n",
      "final angle is :  0.08886969267796581\n"
     ]
    }
   ],
   "source": [
    "#Choose model\n",
    "#agent.qnetwork_local.state_dict() \n",
    "\n",
    "agent.qnetwork_local.load_state_dict(torch.load('Episode_300.pth'))\n",
    "\n",
    "env_info = env.reset()                             # reset the environment\n",
    "state = env.state                                  # get the current state\n",
    "score = 0                                          # initialize the score\n",
    "t = 0\n",
    "max_t = 1000                                       # Number of timesteps\n",
    "for t in range(max_t) :\n",
    "    env.render()\n",
    "    #time.sleep(0.008)\n",
    "    action = agent.act(state)                      # select an action\n",
    "    env_info = env.step(action)                    # send the action to the environment\n",
    "    next_state = env_info[0]                       # get the next state\n",
    "    reward = env_info[1]                           # get the reward\n",
    "    done = env_info[2]                             # see if episode has finished\n",
    "    score += reward                                # update the score\n",
    "    state = next_state                             # roll over the state to next time step\n",
    "    t += 1.0    \n",
    "    if done:                                       # exit loop if episode finished\n",
    "        print(\"Total steps : \", t)\n",
    "        print(\"Total time is : \", env.tau * t)\n",
    "        break\n",
    "        \n",
    "print(\"Score: {}\".format(score))\n",
    "print(\"final state is : \", state)\n",
    "print(\"final x position is : \", state[0])\n",
    "print(\"final lenght is : \", state[4])\n",
    "print(\"final angle is : \", state[2])\n",
    "env.close()\n"
   ]
  },
  {
   "cell_type": "markdown",
   "id": "funny-providence",
   "metadata": {},
   "source": [
    "#### 700th episode of training"
   ]
  },
  {
   "cell_type": "markdown",
   "id": "powered-sperm",
   "metadata": {},
   "source": [
    "Starts realising that sway angle AND rope lenght is important to get maximum rewards"
   ]
  },
  {
   "cell_type": "code",
   "execution_count": 10,
   "id": "false-midwest",
   "metadata": {},
   "outputs": [
    {
     "name": "stdout",
     "output_type": "stream",
     "text": [
      "Score: 12098.141021047952\n",
      "final state is :  [ 0.81195412  0.05868317 -0.1645917   0.13838842  1.27192223  0.11467967\n",
      "  1.          0.        ]\n",
      "final x position is :  0.8119541208840354\n",
      "final lenght is :  1.2719222266975019\n",
      "final angle is :  -0.16459169803812634\n"
     ]
    }
   ],
   "source": [
    "#Choose model\n",
    "#agent.qnetwork_local.state_dict() \n",
    "\n",
    "agent.qnetwork_local.load_state_dict(torch.load('Episode_700.pth'))\n",
    "\n",
    "env_info = env.reset()                             # reset the environment\n",
    "state = env.state                                  # get the current state\n",
    "score = 0                                          # initialize the score\n",
    "t = 0\n",
    "max_t = 1000                                       # Number of timesteps\n",
    "for t in range(max_t) :\n",
    "    env.render()\n",
    "    #time.sleep(0.008)\n",
    "    action = agent.act(state)                      # select an action\n",
    "    env_info = env.step(action)                    # send the action to the environment\n",
    "    next_state = env_info[0]                       # get the next state\n",
    "    reward = env_info[1]                           # get the reward\n",
    "    done = env_info[2]                             # see if episode has finished\n",
    "    score += reward                                # update the score\n",
    "    state = next_state                             # roll over the state to next time step\n",
    "    t += 1.0    \n",
    "    if done:                                       # exit loop if episode finished\n",
    "        print(\"Total steps : \", t)\n",
    "        print(\"Total time is : \", env.tau * t)\n",
    "        break\n",
    "        \n",
    "print(\"Score: {}\".format(score))\n",
    "print(\"final state is : \", state)\n",
    "print(\"final x position is : \", state[0])\n",
    "print(\"final lenght is : \", state[4])\n",
    "print(\"final angle is : \", state[2])\n",
    "env.close()\n"
   ]
  },
  {
   "cell_type": "markdown",
   "id": "israeli-broadcasting",
   "metadata": {},
   "source": [
    "#### 800th episode of training"
   ]
  },
  {
   "cell_type": "markdown",
   "id": "turkish-pontiac",
   "metadata": {},
   "source": [
    "Finds a path where it raises the rope to stabilyse the mass and then aims for the target\n",
    "\n",
    "Best model for this training\n",
    "\n",
    "Can not stabilyse perfectly arround the target"
   ]
  },
  {
   "cell_type": "code",
   "execution_count": 17,
   "id": "experienced-operation",
   "metadata": {},
   "outputs": [
    {
     "name": "stdout",
     "output_type": "stream",
     "text": [
      "Score: 154500.34814586674\n",
      "final state is :  [ 1.19053576  0.03917693  0.17225983 -0.35216672  2.31128437  0.32887241\n",
      "  1.          0.        ]\n",
      "final x position is :  1.1905357597484272\n",
      "final lenght is :  2.3112843735027626\n",
      "final angle is :  0.17225982592303204\n"
     ]
    }
   ],
   "source": [
    "#Choose model\n",
    "#agent.qnetwork_local.state_dict() \n",
    "\n",
    "agent.qnetwork_local.load_state_dict(torch.load('Episode_800.pth'))\n",
    "\n",
    "env_info = env.reset()                             # reset the environment\n",
    "state = env.state                                  # get the current state\n",
    "score = 0                                          # initialize the score\n",
    "t = 0\n",
    "max_t = 1000                                       # Number of timesteps\n",
    "for t in range(max_t) :\n",
    "    env.render()\n",
    "    #time.sleep(0.008)\n",
    "    action = agent.act(state)                      # select an action\n",
    "    env_info = env.step(action)                    # send the action to the environment\n",
    "    next_state = env_info[0]                       # get the next state\n",
    "    reward = env_info[1]                           # get the reward\n",
    "    done = env_info[2]                             # see if episode has finished\n",
    "    score += reward                                # update the score\n",
    "    state = next_state                             # roll over the state to next time step\n",
    "    t += 1.0    \n",
    "    if done:                                       # exit loop if episode finished\n",
    "        print(\"Total steps : \", t)\n",
    "        print(\"Total time is : \", env.tau * t)\n",
    "        break\n",
    "        \n",
    "print(\"Score: {}\".format(score))\n",
    "print(\"final state is : \", state)\n",
    "print(\"final x position is : \", state[0])\n",
    "print(\"final lenght is : \", state[4])\n",
    "print(\"final angle is : \", state[2])\n",
    "env.close()\n"
   ]
  },
  {
   "cell_type": "markdown",
   "id": "heavy-thesis",
   "metadata": {},
   "source": [
    "#### 1300th episode of training"
   ]
  },
  {
   "cell_type": "markdown",
   "id": "indonesian-elite",
   "metadata": {},
   "source": [
    "Completly diverges because it did not solve the environement"
   ]
  },
  {
   "cell_type": "code",
   "execution_count": 16,
   "id": "czech-sacrifice",
   "metadata": {},
   "outputs": [
    {
     "name": "stdout",
     "output_type": "stream",
     "text": [
      "Score: -11118.580196654351\n",
      "final state is :  [-9.98175399e+02 -9.99154448e+01 -1.85619002e-01  1.41678360e+00\n",
      "  1.00000000e-01 -2.23175256e-01  1.00000000e+00  0.00000000e+00]\n",
      "final x position is :  -998.1753992359584\n",
      "final lenght is :  0.1\n",
      "final angle is :  -0.18561900229183045\n"
     ]
    }
   ],
   "source": [
    "#Choose model\n",
    "#agent.qnetwork_local.state_dict() \n",
    "\n",
    "agent.qnetwork_local.load_state_dict(torch.load('Episode_1300.pth'))\n",
    "\n",
    "env_info = env.reset()                             # reset the environment\n",
    "state = env.state                                  # get the current state\n",
    "score = 0                                          # initialize the score\n",
    "t = 0\n",
    "max_t = 1000                                       # Number of timesteps\n",
    "for t in range(max_t) :\n",
    "    env.render()\n",
    "    #time.sleep(0.008)\n",
    "    action = agent.act(state)                      # select an action\n",
    "    env_info = env.step(action)                    # send the action to the environment\n",
    "    next_state = env_info[0]                       # get the next state\n",
    "    reward = env_info[1]                           # get the reward\n",
    "    done = env_info[2]                             # see if episode has finished\n",
    "    score += reward                                # update the score\n",
    "    state = next_state                             # roll over the state to next time step\n",
    "    t += 1.0    \n",
    "    if done:                                       # exit loop if episode finished\n",
    "        print(\"Total steps : \", t)\n",
    "        print(\"Total time is : \", env.tau * t)\n",
    "        break\n",
    "        \n",
    "print(\"Score: {}\".format(score))\n",
    "print(\"final state is : \", state)\n",
    "print(\"final x position is : \", state[0])\n",
    "print(\"final lenght is : \", state[4])\n",
    "print(\"final angle is : \", state[2])\n",
    "env.close()\n"
   ]
  },
  {
   "cell_type": "code",
   "execution_count": null,
   "id": "spoken-whale",
   "metadata": {},
   "outputs": [],
   "source": []
  }
 ],
 "metadata": {
  "kernelspec": {
   "display_name": "Python 3",
   "language": "python",
   "name": "python3"
  },
  "language_info": {
   "codemirror_mode": {
    "name": "ipython",
    "version": 3
   },
   "file_extension": ".py",
   "mimetype": "text/x-python",
   "name": "python",
   "nbconvert_exporter": "python",
   "pygments_lexer": "ipython3",
   "version": "3.8.3"
  }
 },
 "nbformat": 4,
 "nbformat_minor": 5
}
